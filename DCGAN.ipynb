{
 "cells": [
  {
   "cell_type": "code",
   "execution_count": 53,
   "metadata": {
    "collapsed": true
   },
   "outputs": [],
   "source": [
    "import torch\n",
    "from torch import nn\n",
    "from torch import autograd as ag\n",
    "from torch.autograd import Variable\n",
    "from torch.utils import data\n",
    "from torch import optim\n",
    "import torch.nn.functional as F\n",
    "from torchvision import datasets, transforms\n",
    "import numpy as np\n",
    "import matplotlib.pyplot as pt\n",
    "%matplotlib inline"
   ]
  },
  {
   "cell_type": "code",
   "execution_count": 44,
   "metadata": {
    "collapsed": true
   },
   "outputs": [],
   "source": [
    "class Discriminator(nn.Module):\n",
    "    \n",
    "    def __init__(self):\n",
    "        super(Discriminator, self).__init__()\n",
    "        self.conv_layers= nn.Sequential(nn.Conv2d(1, 32, (3,3), padding=1),\n",
    "                                 nn.ReLU(),\n",
    "                                 nn.MaxPool2d((2,2)),\n",
    "                                 nn.Conv2d(32, 64, (3,3), padding=1),\n",
    "                                 nn.ReLU(),\n",
    "                                 nn.MaxPool2d((2,2)))\n",
    "        self.linear_layers = nn.Sequential(\n",
    "                                 nn.Linear(3136, 100),\n",
    "                                 nn.ReLU(),\n",
    "                                 nn.Linear(100, 50),\n",
    "                                 nn.ReLU(),\n",
    "                                 nn.Linear(50, 2),\n",
    "                                 nn.Softmax()\n",
    "                                 # nn.MaxPool2d((2,2))\n",
    "                                 )\n",
    "    \n",
    "    def forward(self, inp):\n",
    "        conv_output = self.conv_layers(inp)\n",
    "        return self.linear_layers(conv_output.view(conv_output.size(0), -1))"
   ]
  },
  {
   "cell_type": "code",
   "execution_count": 69,
   "metadata": {},
   "outputs": [],
   "source": [
    "class Generator(nn.Module):\n",
    "    def __init__(self):\n",
    "        super(Generator, self).__init__()\n",
    "        self.net = nn.Sequential(\n",
    "            nn.ConvTranspose2d(1, 128, (5, 5)), # 14\n",
    "            nn.ReLU(),\n",
    "            nn.ConvTranspose2d(128, 64, (5, 5)), # 18\n",
    "            nn.ReLU(),\n",
    "            nn.ConvTranspose2d(64, 32, (5, 5)), # 22\n",
    "            nn.ReLU(),\n",
    "            nn.ConvTranspose2d(32, 16, (3, 3)), # 24\n",
    "            nn.ReLU(),\n",
    "            nn.ConvTranspose2d(16, 8, (3, 3)), # 26\n",
    "            nn.ReLU(),\n",
    "            nn.ConvTranspose2d(8, 1, (3, 3)), # 28\n",
    "        )\n",
    "    \n",
    "    def forward(self, z):\n",
    "        return self.net(z)"
   ]
  },
  {
   "cell_type": "code",
   "execution_count": 95,
   "metadata": {
    "collapsed": false
   },
   "outputs": [],
   "source": [
    "# inp = Variable(torch.rand( 1, 1, 28, 28))\n",
    "d = Discriminator()\n",
    "num_epochs = 100\n",
    "train_loader = data.DataLoader(\n",
    "    datasets.MNIST('../data', train=True, download=True, transform=transforms.Compose([\n",
    "                       transforms.ToTensor()])))\n",
    "test_loader = data.DataLoader(\n",
    "    datasets.MNIST('../data', train=False, download=True, transform=transforms.Compose([\n",
    "                       transforms.ToTensor()])))\n",
    "\n",
    "count =0\n",
    "for batch, (train_data, target) in enumerate(train_loader):\n",
    "    if count == 1000:\n",
    "        break\n",
    "    count +=1\n",
    "    # print(\" count : \", count)\n",
    "    # print(\"train : \", train_data)\n",
    "    # print(\"target : \", target)\n",
    "    for epoch in range(num_epochs):\n",
    "        output = d.forward(Variable(train_data))\n",
    "        optimizer = optim.Adam(d.parameters())\n",
    "        # target = Variable(target)\n",
    "        # target_t = torch.zeros(1, 10)\n",
    "        # print(target_t[0][target-1])\n",
    "        # target_t[0][target] = 1\n",
    "        target_t = torch.Tensor([[1, 0]])\n",
    "        # print(\"size \", target.size())\n",
    "        loss_obj = nn.MSELoss()\n",
    "        loss = loss_obj(output, Variable(target_t))\n",
    "        optimizer.zero_grad()\n",
    "        loss.backward()\n",
    "        optimizer.step()\n",
    "        # print(\" epoch : \", epoch, \"loss : \", loss.data[0])"
   ]
  },
  {
   "cell_type": "code",
   "execution_count": 96,
   "metadata": {},
   "outputs": [
    {
     "name": "stdout",
     "output_type": "stream",
     "text": [
      " batch :  0\n tot loss :  2.6263630390167236\n"
     ]
    },
    {
     "name": "stdout",
     "output_type": "stream",
     "text": [
      " batch :  1\n tot loss :  2.6263608932495117\n"
     ]
    },
    {
     "name": "stdout",
     "output_type": "stream",
     "text": [
      " batch :  2\n tot loss :  2.626352310180664\n"
     ]
    },
    {
     "name": "stdout",
     "output_type": "stream",
     "text": [
      " batch :  3\n tot loss :  2.6263556480407715\n"
     ]
    },
    {
     "name": "stdout",
     "output_type": "stream",
     "text": [
      " batch :  4\n tot loss :  2.626352548599243\n"
     ]
    },
    {
     "name": "stdout",
     "output_type": "stream",
     "text": [
      " batch :  5\n tot loss :  2.626347064971924\n"
     ]
    },
    {
     "name": "stdout",
     "output_type": "stream",
     "text": [
      " batch :  6\n tot loss :  2.6263468265533447\n"
     ]
    },
    {
     "name": "stdout",
     "output_type": "stream",
     "text": [
      " batch :  7\n tot loss :  2.6263437271118164\n"
     ]
    },
    {
     "name": "stdout",
     "output_type": "stream",
     "text": [
      " batch :  8\n tot loss :  2.626340627670288\n"
     ]
    },
    {
     "name": "stdout",
     "output_type": "stream",
     "text": [
      " batch :  9\n tot loss :  2.6263375282287598\n"
     ]
    },
    {
     "name": "stdout",
     "output_type": "stream",
     "text": [
      " batch :  10\n tot loss :  2.6263341903686523\n"
     ]
    },
    {
     "name": "stdout",
     "output_type": "stream",
     "text": [
      " batch :  11\n tot loss :  2.626330852508545\n"
     ]
    },
    {
     "name": "stdout",
     "output_type": "stream",
     "text": [
      " batch :  12\n tot loss :  2.626326560974121\n"
     ]
    },
    {
     "name": "stdout",
     "output_type": "stream",
     "text": [
      " batch :  13\n tot loss :  2.6263232231140137\n"
     ]
    },
    {
     "name": "stdout",
     "output_type": "stream",
     "text": [
      " batch :  14\n tot loss :  2.626317262649536\n"
     ]
    },
    {
     "name": "stdout",
     "output_type": "stream",
     "text": [
      " batch :  15\n tot loss :  2.626315116882324\n"
     ]
    },
    {
     "name": "stdout",
     "output_type": "stream",
     "text": [
      " batch :  16\n tot loss :  2.6263113021850586\n"
     ]
    },
    {
     "name": "stdout",
     "output_type": "stream",
     "text": [
      " batch :  17\n tot loss :  2.6263065338134766\n"
     ]
    },
    {
     "name": "stdout",
     "output_type": "stream",
     "text": [
      " batch :  18\n tot loss :  2.626302719116211\n"
     ]
    },
    {
     "name": "stdout",
     "output_type": "stream",
     "text": [
      " batch :  19\n tot loss :  2.626296043395996\n"
     ]
    },
    {
     "name": "stdout",
     "output_type": "stream",
     "text": [
      " batch :  20\n tot loss :  2.6262927055358887\n"
     ]
    },
    {
     "name": "stdout",
     "output_type": "stream",
     "text": [
      " batch :  21\n tot loss :  2.6262874603271484\n"
     ]
    },
    {
     "name": "stdout",
     "output_type": "stream",
     "text": [
      " batch :  22\n tot loss :  2.626282215118408\n"
     ]
    },
    {
     "name": "stdout",
     "output_type": "stream",
     "text": [
      " batch :  23\n tot loss :  2.626277208328247\n"
     ]
    },
    {
     "name": "stdout",
     "output_type": "stream",
     "text": [
      " batch :  24\n tot loss :  2.6262693405151367\n"
     ]
    },
    {
     "name": "stdout",
     "output_type": "stream",
     "text": [
      " batch :  25\n tot loss :  2.626265525817871\n"
     ]
    },
    {
     "name": "stdout",
     "output_type": "stream",
     "text": [
      " batch :  26\n tot loss :  2.62625789642334\n"
     ]
    },
    {
     "name": "stdout",
     "output_type": "stream",
     "text": [
      " batch :  27\n tot loss :  2.6262521743774414\n"
     ]
    },
    {
     "name": "stdout",
     "output_type": "stream",
     "text": [
      " batch :  28\n tot loss :  2.626246452331543\n"
     ]
    },
    {
     "name": "stdout",
     "output_type": "stream",
     "text": [
      " batch :  29\n tot loss :  2.6262340545654297\n"
     ]
    },
    {
     "name": "stdout",
     "output_type": "stream",
     "text": [
      " batch :  30\n tot loss :  2.6262311935424805\n"
     ]
    },
    {
     "name": "stdout",
     "output_type": "stream",
     "text": [
      " batch :  31\n tot loss :  2.626211643218994\n"
     ]
    },
    {
     "name": "stdout",
     "output_type": "stream",
     "text": [
      " batch :  32\n tot loss :  2.6262154579162598\n"
     ]
    },
    {
     "name": "stdout",
     "output_type": "stream",
     "text": [
      " batch :  33\n tot loss :  2.626206874847412\n"
     ]
    },
    {
     "name": "stdout",
     "output_type": "stream",
     "text": [
      " batch :  34\n tot loss :  2.626197338104248\n"
     ]
    },
    {
     "name": "stdout",
     "output_type": "stream",
     "text": [
      " batch :  35\n tot loss :  2.626188278198242\n"
     ]
    },
    {
     "name": "stdout",
     "output_type": "stream",
     "text": [
      " batch :  36\n tot loss :  2.6261773109436035\n"
     ]
    },
    {
     "name": "stdout",
     "output_type": "stream",
     "text": [
      " batch :  37\n tot loss :  2.626157760620117\n"
     ]
    },
    {
     "name": "stdout",
     "output_type": "stream",
     "text": [
      " batch :  38\n tot loss :  2.626155376434326\n"
     ]
    },
    {
     "name": "stdout",
     "output_type": "stream",
     "text": [
      " batch :  39\n tot loss :  2.6261396408081055\n"
     ]
    },
    {
     "name": "stdout",
     "output_type": "stream",
     "text": [
      " batch :  40\n tot loss :  2.626099109649658\n"
     ]
    },
    {
     "name": "stdout",
     "output_type": "stream",
     "text": [
      " batch :  41\n tot loss :  2.6261134147644043\n"
     ]
    },
    {
     "name": "stdout",
     "output_type": "stream",
     "text": [
      " batch :  42\n tot loss :  2.626101016998291\n"
     ]
    },
    {
     "name": "stdout",
     "output_type": "stream",
     "text": [
      " batch :  43\n tot loss :  2.6260833740234375\n"
     ]
    },
    {
     "name": "stdout",
     "output_type": "stream",
     "text": [
      " batch :  44\n tot loss :  2.626068115234375\n"
     ]
    },
    {
     "name": "stdout",
     "output_type": "stream",
     "text": [
      " batch :  45\n tot loss :  2.6260509490966797\n"
     ]
    },
    {
     "name": "stdout",
     "output_type": "stream",
     "text": [
      " batch :  46\n tot loss :  2.626028537750244\n"
     ]
    },
    {
     "name": "stdout",
     "output_type": "stream",
     "text": [
      " batch :  47\n tot loss :  2.6260104179382324\n"
     ]
    },
    {
     "name": "stdout",
     "output_type": "stream",
     "text": [
      " batch :  48\n tot loss :  2.6259899139404297\n"
     ]
    },
    {
     "name": "stdout",
     "output_type": "stream",
     "text": [
      " batch :  49\n tot loss :  2.625964641571045\n"
     ]
    },
    {
     "name": "stdout",
     "output_type": "stream",
     "text": [
      " batch :  50\n tot loss :  2.625936985015869\n"
     ]
    },
    {
     "name": "stdout",
     "output_type": "stream",
     "text": [
      " batch :  51\n tot loss :  2.6259117126464844\n"
     ]
    },
    {
     "name": "stdout",
     "output_type": "stream",
     "text": [
      " batch :  52\n tot loss :  2.6258814334869385\n"
     ]
    },
    {
     "name": "stdout",
     "output_type": "stream",
     "text": [
      " batch :  53\n tot loss :  2.625845432281494\n"
     ]
    },
    {
     "name": "stdout",
     "output_type": "stream",
     "text": [
      " batch :  54\n tot loss :  2.6258111000061035\n"
     ]
    },
    {
     "name": "stdout",
     "output_type": "stream",
     "text": [
      " batch :  55\n tot loss :  2.6257691383361816\n"
     ]
    },
    {
     "name": "stdout",
     "output_type": "stream",
     "text": [
      " batch :  56\n tot loss :  2.625723123550415\n"
     ]
    },
    {
     "name": "stdout",
     "output_type": "stream",
     "text": [
      " batch :  57\n tot loss :  2.625627279281616\n"
     ]
    },
    {
     "name": "stdout",
     "output_type": "stream",
     "text": [
      " batch :  58\n tot loss :  2.625609874725342\n"
     ]
    },
    {
     "name": "stdout",
     "output_type": "stream",
     "text": [
      " batch :  59\n tot loss :  2.6255297660827637\n"
     ]
    },
    {
     "name": "stdout",
     "output_type": "stream",
     "text": [
      " batch :  60\n tot loss :  2.6254725456237793\n"
     ]
    },
    {
     "name": "stdout",
     "output_type": "stream",
     "text": [
      " batch :  61\n tot loss :  2.625389575958252\n"
     ]
    },
    {
     "name": "stdout",
     "output_type": "stream",
     "text": [
      " batch :  62\n tot loss :  2.6252646446228027\n"
     ]
    },
    {
     "name": "stdout",
     "output_type": "stream",
     "text": [
      " batch :  63\n tot loss :  2.6251697540283203\n"
     ]
    },
    {
     "name": "stdout",
     "output_type": "stream",
     "text": [
      " batch :  64\n tot loss :  2.62503719329834\n"
     ]
    },
    {
     "name": "stdout",
     "output_type": "stream",
     "text": [
      " batch :  65\n tot loss :  2.624814987182617\n"
     ]
    },
    {
     "name": "stdout",
     "output_type": "stream",
     "text": [
      " batch :  66\n tot loss :  2.624666690826416\n"
     ]
    },
    {
     "name": "stdout",
     "output_type": "stream",
     "text": [
      " batch :  67\n tot loss :  2.6244125366210938\n"
     ]
    },
    {
     "name": "stdout",
     "output_type": "stream",
     "text": [
      " batch :  68\n tot loss :  2.6241073608398438\n"
     ]
    },
    {
     "name": "stdout",
     "output_type": "stream",
     "text": [
      " batch :  69\n tot loss :  2.6237003803253174\n"
     ]
    },
    {
     "name": "stdout",
     "output_type": "stream",
     "text": [
      " batch :  70\n tot loss :  2.6231236457824707\n"
     ]
    },
    {
     "name": "stdout",
     "output_type": "stream",
     "text": [
      " batch :  71\n tot loss :  2.6223697662353516\n"
     ]
    },
    {
     "name": "stdout",
     "output_type": "stream",
     "text": [
      " batch :  72\n tot loss :  2.621192455291748\n"
     ]
    },
    {
     "name": "stdout",
     "output_type": "stream",
     "text": [
      " batch :  73\n tot loss :  2.619229316711426\n"
     ]
    },
    {
     "name": "stdout",
     "output_type": "stream",
     "text": [
      " batch :  74\n tot loss :  2.614382266998291\n"
     ]
    },
    {
     "name": "stdout",
     "output_type": "stream",
     "text": [
      " batch :  75\n tot loss :  2.6050729751586914\n"
     ]
    },
    {
     "name": "stdout",
     "output_type": "stream",
     "text": [
      " batch :  76\n tot loss :  2.5571236610412598\n"
     ]
    },
    {
     "name": "stdout",
     "output_type": "stream",
     "text": [
      " batch :  77\n tot loss :  0.8024200201034546\n"
     ]
    },
    {
     "name": "stdout",
     "output_type": "stream",
     "text": [
      " batch :  78\n tot loss :  0.6633090972900391\n"
     ]
    },
    {
     "name": "stdout",
     "output_type": "stream",
     "text": [
      " batch :  79\n tot loss :  0.6448723077774048\n"
     ]
    },
    {
     "name": "stdout",
     "output_type": "stream",
     "text": [
      " batch :  80\n tot loss :  0.6386491060256958\n"
     ]
    },
    {
     "name": "stdout",
     "output_type": "stream",
     "text": [
      " batch :  81\n tot loss :  0.6347925662994385\n"
     ]
    },
    {
     "name": "stdout",
     "output_type": "stream",
     "text": [
      " batch :  82\n tot loss :  0.6327608227729797\n"
     ]
    },
    {
     "name": "stdout",
     "output_type": "stream",
     "text": [
      " batch :  83\n tot loss :  0.6316505074501038\n"
     ]
    },
    {
     "name": "stdout",
     "output_type": "stream",
     "text": [
      " batch :  84\n tot loss :  0.6306142807006836\n"
     ]
    },
    {
     "name": "stdout",
     "output_type": "stream",
     "text": [
      " batch :  85\n tot loss :  0.6299906969070435\n"
     ]
    },
    {
     "name": "stdout",
     "output_type": "stream",
     "text": [
      " batch :  86\n tot loss :  0.6295453310012817\n"
     ]
    },
    {
     "name": "stdout",
     "output_type": "stream",
     "text": [
      " batch :  87\n tot loss :  0.6291459202766418\n"
     ]
    },
    {
     "name": "stdout",
     "output_type": "stream",
     "text": [
      " batch :  88\n tot loss :  0.6288537979125977\n"
     ]
    },
    {
     "name": "stdout",
     "output_type": "stream",
     "text": [
      " batch :  89\n tot loss :  0.6286616325378418\n"
     ]
    },
    {
     "name": "stdout",
     "output_type": "stream",
     "text": [
      " batch :  90\n tot loss :  0.628399133682251\n"
     ]
    },
    {
     "name": "stdout",
     "output_type": "stream",
     "text": [
      " batch :  91\n tot loss :  0.6282444000244141\n"
     ]
    },
    {
     "name": "stdout",
     "output_type": "stream",
     "text": [
      " batch :  92\n tot loss :  0.6281161308288574\n"
     ]
    },
    {
     "name": "stdout",
     "output_type": "stream",
     "text": [
      " batch :  93\n tot loss :  0.6279631853103638\n"
     ]
    },
    {
     "name": "stdout",
     "output_type": "stream",
     "text": [
      " batch :  94\n tot loss :  0.6278784275054932\n"
     ]
    },
    {
     "name": "stdout",
     "output_type": "stream",
     "text": [
      " batch :  95\n tot loss :  0.6277644634246826\n"
     ]
    },
    {
     "name": "stdout",
     "output_type": "stream",
     "text": [
      " batch :  96\n tot loss :  0.6277391910552979\n"
     ]
    },
    {
     "name": "stdout",
     "output_type": "stream",
     "text": [
      " batch :  97\n tot loss :  0.6276105642318726\n"
     ]
    },
    {
     "name": "stdout",
     "output_type": "stream",
     "text": [
      " batch :  98\n tot loss :  0.6275485157966614\n"
     ]
    },
    {
     "name": "stdout",
     "output_type": "stream",
     "text": [
      " batch :  99\n tot loss :  0.6274897456169128\n"
     ]
    }
   ],
   "source": [
    "g = Generator()\n",
    "z = torch.rand(1, 1, 10, 10)\n",
    "gen_epochs = 200\n",
    "# print(g.forward(Variable(z)))\n",
    "# print(len(train_loader[0]))\n",
    "count = 0\n",
    "for batch, (test_data, target) in enumerate(test_loader):\n",
    "    if count >= 1000:\n",
    "        break\n",
    "    count += 1\n",
    "    for epoch in range(gen_epochs):\n",
    "        ce_loss = nn.CrossEntropyLoss()\n",
    "        d_loss = ce_loss(d.forward(Variable(test_data)), Variable(torch.LongTensor([1])))\n",
    "        z = Variable(torch.rand(1, 1, 10, 10))\n",
    "        g_out = g.forward(z)\n",
    "        # print(g_out)\n",
    "        g_loss = ce_loss(d.forward(g_out), Variable(torch.LongTensor([1])))\n",
    "        tot_loss = d_loss + g_loss\n",
    "        optimizer_d = optim.SGD(d.parameters(), lr=1e-3)\n",
    "        optimizer_g = optim.SGD(g.parameters(), lr=1e-4)\n",
    "        optimizer_d.zero_grad()\n",
    "        optimizer_g.zero_grad()\n",
    "        tot_loss.backward()\n",
    "        optimizer_d.step()\n",
    "        optimizer_g.step()\n",
    "        # optimizer_g = optim.SGD(g.parameters(), lr=1e-3)\n",
    "        # g_loss = ce_loss(d.forward(g.forward(z)), Variable(torch.LongTensor(1)))\n",
    "        # g_loss.backward()\n",
    "        # optimizer_g.step()\n",
    "        if epoch == 99:\n",
    "            print(\" batch : \", batch)\n",
    "            print(\" tot loss : \", tot_loss.data[0])"
   ]
  },
  {
   "cell_type": "code",
   "execution_count": 112,
   "metadata": {},
   "outputs": [
    {
     "data": {
      "image/png": "[encoded data removed]",
      "text/plain": [
       "<matplotlib.figure.Figure at 0x111e2f1d0>"
      ]
     },
     "metadata": {},
     "output_type": "display_data"
    },
    {
     "data": {
      "image/png": "[encoded data removed]",
      "text/plain": [
       "<matplotlib.figure.Figure at 0x111dbb7b8>"
      ]
     },
     "metadata": {},
     "output_type": "display_data"
    },
    {
     "data": {
      "image/png": "[encoded data removed]",
      "text/plain": [
       "<matplotlib.figure.Figure at 0x111fcf4e0>"
      ]
     },
     "metadata": {},
     "output_type": "display_data"
    },
    {
     "data": {
      "image/png": "[encoded data removed]",
      "text/plain": [
       "<matplotlib.figure.Figure at 0x11104fb00>"
      ]
     },
     "metadata": {},
     "output_type": "display_data"
    },
    {
     "data": {
      "image/png": "[encoded data removed]",
      "text/plain": [
       "<matplotlib.figure.Figure at 0x111d64668>"
      ]
     },
     "metadata": {},
     "output_type": "display_data"
    },
    {
     "data": {
      "image/png": "[encoded data removed]",
      "text/plain": [
       "<matplotlib.figure.Figure at 0x111031748>"
      ]
     },
     "metadata": {},
     "output_type": "display_data"
    },
    {
     "data": {
      "image/png": "[encoded data removed]",
      "text/plain": [
       "<matplotlib.figure.Figure at 0x111f73f98>"
      ]
     },
     "metadata": {},
     "output_type": "display_data"
    },
    {
     "data": {
      "image/png": "[encoded data removed]",
      "text/plain": [
       "<matplotlib.figure.Figure at 0x111e9a240>"
      ]
     },
     "metadata": {},
     "output_type": "display_data"
    },
    {
     "data": {
      "image/png": "[encoded data removed]",
      "text/plain": [
       "<matplotlib.figure.Figure at 0x111d8f5c0>"
      ]
     },
     "metadata": {},
     "output_type": "display_data"
    },
    {
     "data": {
      "image/png": "[encoded data removed]",
      "text/plain": [
       "<matplotlib.figure.Figure at 0x111c47e10>"
      ]
     },
     "metadata": {},
     "output_type": "display_data"
    }
   ],
   "source": [
    "num_images = 5\n",
    "count = 0\n",
    "for batch, (train_data, target) in enumerate(test_loader):\n",
    "    if count==num_images:\n",
    "        break\n",
    "    pt.imshow(train_data.numpy()[0][0])\n",
    "    pt.show()\n",
    "    count+=1\n",
    "    \n",
    "for i in range(num_images):\n",
    "    z = Variable(torch.rand(1, 1, 10, 10))\n",
    "    img = g(z)\n",
    "    img = img.data.numpy()\n",
    "    # img = img.reshape(28, 28)\n",
    "    pt.imshow(img[0][0])\n",
    "    pt.show()\n",
    "    # print(i, \"\\n\")"
   ]
  },
  {
   "cell_type": "code",
   "execution_count": null,
   "metadata": {},
   "outputs": [],
   "source": [
    ""
   ]
  }
 ],
 "metadata": {
  "kernelspec": {
   "display_name": "Python 3",
   "language": "python",
   "name": "python3"
  },
  "language_info": {
   "codemirror_mode": {
    "name": "ipython",
    "version": 3.0
   },
   "file_extension": ".py",
   "mimetype": "text/x-python",
   "name": "python",
   "nbconvert_exporter": "python",
   "pygments_lexer": "ipython3",
   "version": "3.6.1"
  }
 },
 "nbformat": 4,
 "nbformat_minor": 0
}