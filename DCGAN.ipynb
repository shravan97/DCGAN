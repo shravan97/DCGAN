{
 "cells": [
  {
   "cell_type": "code",
   "execution_count": 13,
   "metadata": {
    "collapsed": true
   },
   "outputs": [],
   "source": [
    "import torch\n",
    "from torch import nn\n",
    "from torch.autograd import Variable\n",
    "from torch import optim\n",
    "import torch.nn.functional as F\n",
    "from torchvision import datasets, transforms\n",
    "import numpy as np\n",
    "import matplotlib.pyplot as pt\n",
    "%matplotlib inline"
   ]
  },
  {
   "cell_type": "code",
   "execution_count": 44,
   "metadata": {
    "collapsed": true
   },
   "outputs": [],
   "source": [
    "class Discriminator(nn.Module):\n",
    "    \n",
    "    def __init__(self):\n",
    "        super(Discriminator, self).__init__()\n",
    "        self.conv_layers= nn.Sequential(nn.Conv2d(1, 32, (3,3), padding=1),\n",
    "                                 nn.ReLU(),\n",
    "                                 nn.MaxPool2d((2,2)),\n",
    "                                 nn.Conv2d(32, 64, (3,3), padding=1),\n",
    "                                 nn.ReLU(),\n",
    "                                 nn.MaxPool2d((2,2)))\n",
    "        self.linear_layers = nn.Sequential(\n",
    "                                 nn.Linear(3136, 100),\n",
    "                                 nn.ReLU(),\n",
    "                                 nn.Linear(100, 50),\n",
    "                                 nn.ReLU(),\n",
    "                                 nn.Linear(50, 2),\n",
    "                                 nn.Softmax()\n",
    "                                 # nn.MaxPool2d((2,2))\n",
    "                                 )\n",
    "    \n",
    "    def forward(self, inp):\n",
    "        conv_output = self.conv_layers(inp)\n",
    "        return self.linear_layers(conv_output.view(conv_output.size(0), -1))"
   ]
  },
  {
   "cell_type": "code",
   "execution_count": 40,
   "metadata": {},
   "outputs": [],
   "source": [
    "class Generator(nn.Module):\n",
    "    def __init__(self):\n",
    "        super(Generator, self).__init__()\n",
    "        self.net = nn.Sequential(\n",
    "            nn.ConvTranspose2d(1, 512, (5, 5)), # 14\n",
    "            nn.ReLU(),\n",
    "            nn.ConvTranspose2d(512, 256, (5, 5)), # 18\n",
    "            nn.ReLU(),\n",
    "            nn.ConvTranspose2d(256, 128, (3, 3)), # 20\n",
    "            nn.ReLU(),\n",
    "            nn.ConvTranspose2d(128, 64, (3, 3)), # 22\n",
    "            nn.ReLU(),\n",
    "            nn.ConvTranspose2d(64, 32, (3, 3)), # 24\n",
    "            nn.ReLU(),\n",
    "            nn.ConvTranspose2d(32, 16, (3, 3)), # 26\n",
    "            nn.ReLU(),\n",
    "            nn.ConvTranspose2d(16, 1, (3, 3)), # 28\n",
    "            nn.ReLU(),            \n",
    "        )\n",
    "    \n",
    "    def forward(self, z):\n",
    "        return self.net(z)"
   ]
  },
  {
   "cell_type": "code",
   "execution_count": 45,
   "metadata": {
    "collapsed": false
   },
   "outputs": [],
   "source": [
    "# inp = Variable(torch.rand( 1, 1, 28, 28))\n",
    "d = Discriminator()\n",
    "num_epochs = 100\n",
    "train_loader = torch.utils.data.DataLoader(\n",
    "    datasets.MNIST('../data', train=True, download=True, transform=transforms.Compose([\n",
    "                       transforms.ToTensor()])))\n",
    "count =0\n",
    "for batch, (train_data, target) in enumerate(train_loader):\n",
    "    if count == 100:\n",
    "        break\n",
    "    count +=1\n",
    "    # print(\"train : \", train_data)\n",
    "    # print(\"target : \", target)\n",
    "    for epoch in range(num_epochs):\n",
    "        output = d.forward(Variable(train_data))\n",
    "        optimizer = optim.Adam(d.parameters())\n",
    "        # target = Variable(target)\n",
    "        # target_t = torch.zeros(1, 10)\n",
    "        # print(target_t[0][target-1])\n",
    "        # target_t[0][target] = 1\n",
    "        target_t = torch.Tensor([[1, 0]])\n",
    "        # print(\"size \", target.size())\n",
    "        loss_obj = nn.MSELoss()\n",
    "        loss = loss_obj(output, Variable(target_t))\n",
    "        optimizer.zero_grad()\n",
    "        loss.backward()\n",
    "        optimizer.step()\n",
    "        # print(\" epoch : \", epoch, \"loss : \", loss.data[0])"
   ]
  },
  {
   "cell_type": "code",
   "execution_count": 42,
   "metadata": {},
   "outputs": [
    {
     "name": "stdout",
     "output_type": "stream",
     "text": [
      "Variable containing:\n(0 ,0 ,.,.) = \n\nColumns 0 to 18 \n    0   0   0   0   0   0   0   0   0   0   0   0   0   0   0   0   0   0   0\n   0   0   0   0   0   0   0   0   0   0   0   0   0   0   0   0   0   0   0\n   0   0   0   0   0   0   0   0   0   0   0   0   0   0   0   0   0   0   0\n   0   0   0   0   0   0   0   0   0   0   0   0   0   0   0   0   0   0   0\n   0   0   0   0   0   0   0   0   0   0   0   0   0   0   0   0   0   0   0\n   0   0   0   0   0   0   0   0   0   0   0   0   0   0   0   0   0   0   0\n   0   0   0   0   0   0   0   0   0   0   0   0   0   0   0   0   0   0   0\n   0   0   0   0   0   0   0   0   0   0   0   0   0   0   0   0   0   0   0\n   0   0   0   0   0   0   0   0   0   0   0   0   0   0   0   0   0   0   0\n   0   0   0   0   0   0   0   0   0   0   0   0   0   0   0   0   0   0   0\n   0   0   0   0   0   0   0   0   0   0   0   0   0   0   0   0   0   0   0\n   0   0   0   0   0   0   0   0   0   0   0   0   0   0   0   0   0   0   0\n   0   0   0   0   0   0   0   0   0   0   0   0   0   0   0   0   0   0   0\n   0   0   0   0   0   0   0   0   0   0   0   0   0   0   0   0   0   0   0\n   0   0   0   0   0   0   0   0   0   0   0   0   0   0   0   0   0   0   0\n   0   0   0   0   0   0   0   0   0   0   0   0   0   0   0   0   0   0   0\n   0   0   0   0   0   0   0   0   0   0   0   0   0   0   0   0   0   0   0\n   0   0   0   0   0   0   0   0   0   0   0   0   0   0   0   0   0   0   0\n   0   0   0   0   0   0   0   0   0   0   0   0   0   0   0   0   0   0   0\n   0   0   0   0   0   0   0   0   0   0   0   0   0   0   0   0   0   0   0\n   0   0   0   0   0   0   0   0   0   0   0   0   0   0   0   0   0   0   0\n   0   0   0   0   0   0   0   0   0   0   0   0   0   0   0   0   0   0   0\n   0   0   0   0   0   0   0   0   0   0   0   0   0   0   0   0   0   0   0\n   0   0   0   0   0   0   0   0   0   0   0   0   0   0   0   0   0   0   0\n   0   0   0   0   0   0   0   0   0   0   0   0   0   0   0   0   0   0   0\n   0   0   0   0   0   0   0   0   0   0   0   0   0   0   0   0   0   0   0\n   0   0   0   0   0   0   0   0   0   0   0   0   0   0   0   0   0   0   0\n   0   0   0   0   0   0   0   0   0   0   0   0   0   0   0   0   0   0   0\n\nColumns 19 to 27 \n    0   0   0   0   0   0   0   0   0\n   0   0   0   0   0   0   0   0   0\n   0   0   0   0   0   0   0   0   0\n   0   0   0   0   0   0   0   0   0\n   0   0   0   0   0   0   0   0   0\n   0   0   0   0   0   0   0   0   0\n   0   0   0   0   0   0   0   0   0\n   0   0   0   0   0   0   0   0   0\n   0   0   0   0   0   0   0   0   0\n   0   0   0   0   0   0   0   0   0\n   0   0   0   0   0   0   0   0   0\n   0   0   0   0   0   0   0   0   0\n   0   0   0   0   0   0   0   0   0\n   0   0   0   0   0   0   0   0   0\n   0   0   0   0   0   0   0   0   0\n   0   0   0   0   0   0   0   0   0\n   0   0   0   0   0   0   0   0   0\n   0   0   0   0   0   0   0   0   0\n   0   0   0   0   0   0   0   0   0\n   0   0   0   0   0   0   0   0   0\n   0   0   0   0   0   0   0   0   0\n   0   0   0   0   0   0   0   0   0\n   0   0   0   0   0   0   0   0   0\n   0   0   0   0   0   0   0   0   0\n   0   0   0   0   0   0   0   0   0\n   0   0   0   0   0   0   0   0   0\n   0   0   0   0   0   0   0   0   0\n   0   0   0   0   0   0   0   0   0\n[torch.FloatTensor of size 1x1x28x28]\n\n"
     ]
    }
   ],
   "source": [
    "g = Generator()\n",
    "z = torch.rand(1,1,10,10)\n",
    "print(g.forward(Variable(z)))"
   ]
  },
  {
   "cell_type": "code",
   "execution_count": null,
   "metadata": {},
   "outputs": [],
   "source": [
    ""
   ]
  }
 ],
 "metadata": {
  "kernelspec": {
   "display_name": "Python 3",
   "language": "python",
   "name": "python3"
  },
  "language_info": {
   "codemirror_mode": {
    "name": "ipython",
    "version": 3.0
   },
   "file_extension": ".py",
   "mimetype": "text/x-python",
   "name": "python",
   "nbconvert_exporter": "python",
   "pygments_lexer": "ipython3",
   "version": "3.6.1"
  }
 },
 "nbformat": 4,
 "nbformat_minor": 0
}